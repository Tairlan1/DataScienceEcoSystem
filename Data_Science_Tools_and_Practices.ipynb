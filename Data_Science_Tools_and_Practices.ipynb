{
 "cells": [
  {
   "cell_type": "markdown",
   "id": "e4d136bf",
   "metadata": {},
   "source": [
    "# Data Science Tools and Practices"
   ]
  },
  {
   "cell_type": "markdown",
   "id": "9865dcbd",
   "metadata": {},
   "source": [
    "## Introduction\n",
    "This notebook provides an overview of data science tools, languages, libraries, and practices. It also includes some basic arithmetic operations and conversions."
   ]
  },
  {
   "cell_type": "markdown",
   "id": "4836b6dd",
   "metadata": {},
   "source": [
    "## Data Science Languages\n",
    "1. Python\n",
    "2. R\n",
    "3. SQL\n",
    "4. Java\n",
    "5. Julia"
   ]
  },
  {
   "cell_type": "markdown",
   "id": "36a705ac",
   "metadata": {},
   "source": [
    "## Data Science Libraries\n",
    "1. Pandas\n",
    "2. NumPy\n",
    "3. Matplotlib\n",
    "4. Scikit-learn\n",
    "5. TensorFlow"
   ]
  },
  {
   "cell_type": "markdown",
   "id": "be349471",
   "metadata": {},
   "source": [
    "## Data Science Tools\n",
    "| Tool         | Description                                      |\n",
    "|--------------|--------------------------------------------------|\n",
    "| Jupyter      | Interactive computing environment                |\n",
    "| RStudio      | Integrated development environment for R         |\n",
    "| Apache Spark | Unified analytics engine for big data processing |"
   ]
  },
  {
   "cell_type": "markdown",
   "id": "83bde03e",
   "metadata": {},
   "source": [
    "## Arithmetic Expression Examples\n",
    "Below are examples of basic arithmetic operations:"
   ]
  },
  {
   "cell_type": "code",
   "execution_count": null,
   "id": "7e194ddc",
   "metadata": {},
   "outputs": [],
   "source": [
    "# Multiply and add two numbers\n",
    "result = (5 * 4) + 2\n",
    "result"
   ]
  },
  {
   "cell_type": "code",
   "execution_count": null,
   "id": "b0db925f",
   "metadata": {},
   "outputs": [],
   "source": [
    "# Convert minutes to hours\n",
    "minutes = 150\n",
    "hours = minutes / 60\n",
    "hours"
   ]
  },
  {
   "cell_type": "markdown",
   "id": "461b364d",
   "metadata": {},
   "source": [
    "## Objectives\n",
    "- Learn about data science tools and practices\n",
    "- Understand data science languages and libraries\n",
    "- Perform basic arithmetic operations in Python"
   ]
  },
  {
   "cell_type": "markdown",
   "id": "273cdae9",
   "metadata": {},
   "source": [
    "## Author\n",
    "Tairlan Kairolla"
   ]
  }
 ],
 "metadata": {},
 "nbformat": 4,
 "nbformat_minor": 5
}
